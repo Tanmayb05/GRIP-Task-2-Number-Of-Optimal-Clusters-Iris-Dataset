{
 "cells": [
  {
   "cell_type": "markdown",
   "metadata": {
    "colab_type": "text",
    "heading_collapsed": true,
    "id": "UID9RK1qDlVB"
   },
   "source": [
    "### Workshop - 1: K- Means Clustering\n",
    "\n",
    "This notebook will walk through some of the basics of K-Means Clustering."
   ]
  },
  {
   "cell_type": "markdown",
   "metadata": {
    "colab_type": "text",
    "id": "qnC6-B-KUBWO"
   },
   "source": [
    "### Author: Xaltius Pte. Ltd.\n",
    "Copyright Xaltius Pte. Ltd., 2018\n",
    "\n",
    "**Not for distribution.**"
   ]
  },
  {
   "cell_type": "code",
   "execution_count": 3,
   "metadata": {
    "ExecuteTime": {
     "end_time": "2021-06-03T09:35:30.788799Z",
     "start_time": "2021-06-03T09:35:30.770730Z"
    },
    "colab": {
     "base_uri": "https://localhost:8080/",
     "height": 195
    },
    "colab_type": "code",
    "executionInfo": {
     "elapsed": 835,
     "status": "ok",
     "timestamp": 1544240454142,
     "user": {
      "displayName": "A M Aditya",
      "photoUrl": "https://lh3.googleusercontent.com/-WI8p7JNWLic/AAAAAAAAAAI/AAAAAAAAAfs/vS8ElgH0p0c/s64/photo.jpg",
      "userId": "15341571102300750919"
     },
     "user_tz": -480
    },
    "id": "kO_1kOEGDTws",
    "outputId": "24bb4b2a-2342-4c91-c702-b127a5391152"
   },
   "outputs": [
    {
     "data": {
      "text/html": [
       "<div>\n",
       "<style scoped>\n",
       "    .dataframe tbody tr th:only-of-type {\n",
       "        vertical-align: middle;\n",
       "    }\n",
       "\n",
       "    .dataframe tbody tr th {\n",
       "        vertical-align: top;\n",
       "    }\n",
       "\n",
       "    .dataframe thead th {\n",
       "        text-align: right;\n",
       "    }\n",
       "</style>\n",
       "<table border=\"1\" class=\"dataframe\">\n",
       "  <thead>\n",
       "    <tr style=\"text-align: right;\">\n",
       "      <th></th>\n",
       "      <th>sepal length (cm)</th>\n",
       "      <th>sepal width (cm)</th>\n",
       "      <th>petal length (cm)</th>\n",
       "      <th>petal width (cm)</th>\n",
       "    </tr>\n",
       "  </thead>\n",
       "  <tbody>\n",
       "    <tr>\n",
       "      <th>0</th>\n",
       "      <td>5.1</td>\n",
       "      <td>3.5</td>\n",
       "      <td>1.4</td>\n",
       "      <td>0.2</td>\n",
       "    </tr>\n",
       "    <tr>\n",
       "      <th>1</th>\n",
       "      <td>4.9</td>\n",
       "      <td>3.0</td>\n",
       "      <td>1.4</td>\n",
       "      <td>0.2</td>\n",
       "    </tr>\n",
       "    <tr>\n",
       "      <th>2</th>\n",
       "      <td>4.7</td>\n",
       "      <td>3.2</td>\n",
       "      <td>1.3</td>\n",
       "      <td>0.2</td>\n",
       "    </tr>\n",
       "    <tr>\n",
       "      <th>3</th>\n",
       "      <td>4.6</td>\n",
       "      <td>3.1</td>\n",
       "      <td>1.5</td>\n",
       "      <td>0.2</td>\n",
       "    </tr>\n",
       "    <tr>\n",
       "      <th>4</th>\n",
       "      <td>5.0</td>\n",
       "      <td>3.6</td>\n",
       "      <td>1.4</td>\n",
       "      <td>0.2</td>\n",
       "    </tr>\n",
       "  </tbody>\n",
       "</table>\n",
       "</div>"
      ],
      "text/plain": [
       "   sepal length (cm)  sepal width (cm)  petal length (cm)  petal width (cm)\n",
       "0                5.1               3.5                1.4               0.2\n",
       "1                4.9               3.0                1.4               0.2\n",
       "2                4.7               3.2                1.3               0.2\n",
       "3                4.6               3.1                1.5               0.2\n",
       "4                5.0               3.6                1.4               0.2"
      ]
     },
     "execution_count": 3,
     "metadata": {},
     "output_type": "execute_result"
    }
   ],
   "source": [
    "# Importing the libraries\n",
    "import numpy as np\n",
    "import matplotlib.pyplot as plt\n",
    "import pandas as pd\n",
    "from sklearn import datasets\n",
    "\n",
    "# Load the iris dataset\n",
    "iris = datasets.load_iris()\n",
    "iris_df = pd.DataFrame(iris.data, columns = iris.feature_names)\n",
    "iris_df.head() # See the first 5 rows"
   ]
  },
  {
   "cell_type": "markdown",
   "metadata": {
    "colab_type": "text",
    "id": "q_pPmK9GIKMz"
   },
   "source": [
    "#### How do you find the optimum number of clusters for K Means? How does one determine the value of K?"
   ]
  },
  {
   "cell_type": "code",
   "execution_count": 5,
   "metadata": {
    "ExecuteTime": {
     "end_time": "2021-06-03T09:37:04.167239Z",
     "start_time": "2021-06-03T09:37:02.352552Z"
    },
    "colab": {
     "base_uri": "https://localhost:8080/",
     "height": 376
    },
    "colab_type": "code",
    "executionInfo": {
     "elapsed": 1649,
     "status": "ok",
     "timestamp": 1544110062756,
     "user": {
      "displayName": "A M Aditya",
      "photoUrl": "https://lh3.googleusercontent.com/-WI8p7JNWLic/AAAAAAAAAAI/AAAAAAAAAfs/vS8ElgH0p0c/s64/photo.jpg",
      "userId": "15341571102300750919"
     },
     "user_tz": -480
    },
    "id": "WevSKogFEalU",
    "outputId": "d0161248-67f2-48a4-cf4b-224f8faae045"
   },
   "outputs": [
    {
     "data": {
      "image/png": "[encoded data removed]",
      "text/plain": [
       "<Figure size 432x288 with 1 Axes>"
      ]
     },
     "metadata": {
      "needs_background": "light"
     },
     "output_type": "display_data"
    }
   ],
   "source": [
    "# Finding the optimum number of clusters for k-means classification\n",
    "\n",
    "x = iris_df.iloc[:, [0, 1, 2, 3]].values\n",
    "\n",
    "from sklearn.cluster import KMeans\n",
    "wcss = []\n",
    "\n",
    "for i in range(1, 11):\n",
    "    kmeans = KMeans(n_clusters = i, init = 'k-means++', \n",
    "                    max_iter = 300, n_init = 10, random_state = 0)\n",
    "    kmeans.fit(x)\n",
    "    wcss.append(kmeans.inertia_)\n",
    "    \n",
    "# Plotting the results onto a line graph, \n",
    "# `allowing us to observe 'The elbow'\n",
    "plt.plot(range(1, 11), wcss)\n",
    "plt.title('The elbow method')\n",
    "plt.xlabel('Number of clusters')\n",
    "plt.ylabel('WCSS') # Within cluster sum of squares\n",
    "plt.show()"
   ]
  },
  {
   "cell_type": "markdown",
   "metadata": {
    "colab_type": "text",
    "id": "IUXmLTh4Ih6r"
   },
   "source": [
    "You can clearly see why it is called 'The elbow method' from the above graph, the optimum clusters is where the elbow occurs. This is when the within cluster sum of squares (WCSS) doesn't decrease significantly with every iteration.\n",
    "\n",
    "From this we choose the number of clusters as ** '3**'."
   ]
  },
  {
   "cell_type": "code",
   "execution_count": 6,
   "metadata": {
    "ExecuteTime": {
     "end_time": "2021-06-03T09:37:07.107056Z",
     "start_time": "2021-06-03T09:37:07.063731Z"
    },
    "colab": {},
    "colab_type": "code",
    "id": "aJbyXuNGIXI9"
   },
   "outputs": [],
   "source": [
    "# Applying kmeans to the dataset / Creating the kmeans classifier\n",
    "kmeans = KMeans(n_clusters = 3, init = 'k-means++',\n",
    "                max_iter = 300, n_init = 10, random_state = 0)\n",
    "y_kmeans = kmeans.fit_predict(x)"
   ]
  },
  {
   "cell_type": "code",
   "execution_count": 0,
   "metadata": {
    "colab": {
     "base_uri": "https://localhost:8080/",
     "height": 364
    },
    "colab_type": "code",
    "executionInfo": {
     "elapsed": 670,
     "status": "ok",
     "timestamp": 1544110172140,
     "user": {
      "displayName": "A M Aditya",
      "photoUrl": "https://lh3.googleusercontent.com/-WI8p7JNWLic/AAAAAAAAAAI/AAAAAAAAAfs/vS8ElgH0p0c/s64/photo.jpg",
      "userId": "15341571102300750919"
     },
     "user_tz": -480
    },
    "id": "Q42-XPJjIyXv",
    "outputId": "12284613-40c5-41c6-93ba-6b66fae0aa5f"
   },
   "outputs": [
    {
     "data": {
      "text/plain": [
       "<matplotlib.legend.Legend at 0x7f4cb0097e10>"
      ]
     },
     "execution_count": 21,
     "metadata": {
      "tags": []
     },
     "output_type": "execute_result"
    },
    {
     "data": {
      "image/png": "[encoded data removed]",
      "text/plain": [
       "<matplotlib.figure.Figure at 0x7f4cb71c8748>"
      ]
     },
     "metadata": {
      "tags": []
     },
     "output_type": "display_data"
    }
   ],
   "source": [
    "# Visualising the clusters - On the first two columns\n",
    "plt.scatter(x[y_kmeans == 0, 0], x[y_kmeans == 0, 1], \n",
    "            s = 100, c = 'red', label = 'Iris-setosa')\n",
    "plt.scatter(x[y_kmeans == 1, 0], x[y_kmeans == 1, 1], \n",
    "            s = 100, c = 'blue', label = 'Iris-versicolour')\n",
    "plt.scatter(x[y_kmeans == 2, 0], x[y_kmeans == 2, 1],\n",
    "            s = 100, c = 'green', label = 'Iris-virginica')\n",
    "\n",
    "# Plotting the centroids of the clusters\n",
    "plt.scatter(kmeans.cluster_centers_[:, 0], kmeans.cluster_centers_[:,1], \n",
    "            s = 100, c = 'yellow', label = 'Centroids')\n",
    "\n",
    "plt.legend()"
   ]
  },
  {
   "cell_type": "markdown",
   "metadata": {
    "colab_type": "text",
    "id": "Lue5nDJrJIJm"
   },
   "source": [
    "This concludes the K-Means Workshop.\n",
    "\n",
    "**Any questions?**"
   ]
  },
  {
   "cell_type": "code",
   "execution_count": null,
   "metadata": {},
   "outputs": [],
   "source": []
  },
  {
   "cell_type": "code",
   "execution_count": null,
   "metadata": {},
   "outputs": [],
   "source": []
  },
  {
   "cell_type": "code",
   "execution_count": null,
   "metadata": {},
   "outputs": [],
   "source": []
  },
  {
   "cell_type": "code",
   "execution_count": null,
   "metadata": {},
   "outputs": [],
   "source": []
  },
  {
   "cell_type": "code",
   "execution_count": 13,
   "metadata": {
    "ExecuteTime": {
     "end_time": "2021-06-03T09:46:57.281203Z",
     "start_time": "2021-06-03T09:46:57.259679Z"
    }
   },
   "outputs": [],
   "source": [
    "import pandas as pd\n",
    "import numpy as np\n",
    "import matplotlib.pyplot as plt\n",
    "from sklearn.cluster import KMeans\n",
    "%matplotlib inline"
   ]
  },
  {
   "cell_type": "code",
   "execution_count": 43,
   "metadata": {
    "ExecuteTime": {
     "end_time": "2021-06-03T09:56:50.337596Z",
     "start_time": "2021-06-03T09:56:50.331676Z"
    }
   },
   "outputs": [],
   "source": [
    "j  =    -2 * np.random.rand(100,2)"
   ]
  },
  {
   "cell_type": "code",
   "execution_count": 44,
   "metadata": {
    "ExecuteTime": {
     "end_time": "2021-06-03T09:56:52.994088Z",
     "start_time": "2021-06-03T09:56:52.983550Z"
    }
   },
   "outputs": [
    {
     "data": {
      "text/plain": [
       "array([[-2.16791012e-01, -9.79546302e-03],\n",
       "       [-6.47795085e-01, -1.01016663e+00],\n",
       "       [-1.18638973e+00, -5.76942663e-01],\n",
       "       [-1.38813099e+00, -3.37027094e-01],\n",
       "       [-1.75590778e+00, -1.23772554e+00],\n",
       "       [-1.54087076e-01, -1.31179638e+00],\n",
       "       [-1.31207432e+00, -8.50664221e-01],\n",
       "       [-1.11276712e+00, -8.26597704e-01],\n",
       "       [-1.00163594e+00, -4.66443877e-01],\n",
       "       [-1.01935670e+00, -1.78922665e+00],\n",
       "       [-2.01563270e-01, -1.71108710e+00],\n",
       "       [-2.61631811e-01, -8.48364429e-01],\n",
       "       [-1.14350808e+00, -1.53493511e+00],\n",
       "       [-1.42244008e+00, -1.16113722e+00],\n",
       "       [-1.22877872e+00, -4.13634592e-01],\n",
       "       [-1.70334647e+00, -1.04729146e+00],\n",
       "       [-8.76475476e-02, -8.97031934e-01],\n",
       "       [-9.30619256e-01, -1.48607310e+00],\n",
       "       [-1.60488750e+00, -1.51690786e+00],\n",
       "       [-6.03982792e-01, -1.90858587e+00],\n",
       "       [-6.90499870e-01, -1.49242575e+00],\n",
       "       [-6.49473713e-01, -1.73968666e+00],\n",
       "       [-1.36814342e+00, -1.05808137e+00],\n",
       "       [-4.34363442e-01, -8.47840825e-01],\n",
       "       [-8.20642582e-01, -1.33683171e+00],\n",
       "       [-1.09414971e+00, -1.29952620e+00],\n",
       "       [-7.86469506e-01, -1.84683571e+00],\n",
       "       [-1.59643111e+00, -1.15581875e+00],\n",
       "       [-7.06230512e-01, -1.33718552e+00],\n",
       "       [-5.04025114e-01, -5.24159841e-01],\n",
       "       [-1.36286360e+00, -1.78073710e+00],\n",
       "       [-5.43025495e-01, -1.68524047e+00],\n",
       "       [-7.87007225e-01, -9.81857844e-01],\n",
       "       [-5.11367335e-01, -1.43821071e-02],\n",
       "       [-3.11367665e-01, -9.58548927e-04],\n",
       "       [-1.00721209e+00, -5.54948452e-03],\n",
       "       [-1.08455924e+00, -1.85894848e+00],\n",
       "       [-7.03487784e-01, -1.91792171e+00],\n",
       "       [-1.85919622e+00, -1.25371161e+00],\n",
       "       [-4.79504699e-01, -1.96612356e+00],\n",
       "       [-1.20262530e+00, -1.92213288e+00],\n",
       "       [-1.45014899e+00, -1.47148844e+00],\n",
       "       [-4.94947746e-01, -1.08202031e+00],\n",
       "       [-4.66585814e-01, -2.68594023e-01],\n",
       "       [-1.75414821e+00, -6.52816741e-01],\n",
       "       [-1.15278221e+00, -7.51989190e-01],\n",
       "       [-1.42266878e+00, -1.11692545e+00],\n",
       "       [-1.57882855e+00, -1.89819603e+00],\n",
       "       [-1.94266566e+00, -1.02123372e+00],\n",
       "       [-1.67561770e+00, -1.54627278e+00],\n",
       "       [-1.99407397e+00, -3.27466758e-01],\n",
       "       [-1.19864064e+00, -1.04875152e+00],\n",
       "       [-2.92135077e-02, -1.77290488e+00],\n",
       "       [-1.94451520e+00, -2.35201574e-01],\n",
       "       [-6.11934633e-01, -1.48845025e+00],\n",
       "       [-1.29239528e+00, -7.20738183e-01],\n",
       "       [-2.77865920e-01, -1.28994213e+00],\n",
       "       [-2.05767634e-01, -1.40158796e+00],\n",
       "       [-8.10554597e-01, -1.47546360e+00],\n",
       "       [-1.24377117e+00, -1.86205024e+00],\n",
       "       [-6.44470487e-01, -1.62230110e+00],\n",
       "       [-1.71561696e+00, -1.95735813e+00],\n",
       "       [-1.04220736e+00, -9.32514009e-01],\n",
       "       [-1.25663399e+00, -1.81965755e+00],\n",
       "       [-9.46079168e-01, -6.82409522e-01],\n",
       "       [-9.09862405e-01, -4.00049792e-01],\n",
       "       [-1.12367395e+00, -1.95128599e+00],\n",
       "       [-1.83032728e-01, -8.91661681e-01],\n",
       "       [-9.60075159e-01, -2.26177675e-01],\n",
       "       [-1.99532045e+00, -1.67726775e+00],\n",
       "       [-7.38666870e-01, -1.43292908e+00],\n",
       "       [-1.46370764e+00, -1.19495280e+00],\n",
       "       [-9.63227452e-01, -1.59078754e+00],\n",
       "       [-1.44191140e-02, -9.79283256e-01],\n",
       "       [-3.73465563e-01, -6.01690891e-01],\n",
       "       [-8.79511960e-01, -1.35104518e+00],\n",
       "       [-1.26976293e+00, -1.93945394e+00],\n",
       "       [-1.57198765e+00, -5.48883390e-02],\n",
       "       [-6.63922456e-01, -3.17087917e-01],\n",
       "       [-3.78377103e-01, -1.94694048e+00],\n",
       "       [-1.74021548e+00, -1.48911036e+00],\n",
       "       [-1.51376632e+00, -5.68625112e-01],\n",
       "       [-1.12316590e+00, -4.79018405e-01],\n",
       "       [-1.26568166e+00, -5.80815730e-01],\n",
       "       [-1.22188944e-01, -1.99420653e+00],\n",
       "       [-5.88113673e-01, -1.77092469e+00],\n",
       "       [-6.15158549e-01, -5.55437203e-01],\n",
       "       [-4.87884466e-01, -1.76121747e+00],\n",
       "       [-1.79723318e+00, -9.34069487e-01],\n",
       "       [-5.85062003e-01, -7.60573903e-01],\n",
       "       [-5.17633005e-01, -1.02974631e+00],\n",
       "       [-1.35758116e-01, -1.67631631e+00],\n",
       "       [-1.74495329e+00, -1.21126789e+00],\n",
       "       [-8.57060343e-01, -1.38609915e-01],\n",
       "       [-2.35420006e-02, -1.96798895e+00],\n",
       "       [-7.55202000e-01, -1.63238825e+00],\n",
       "       [-3.93201337e-01, -4.71747003e-01],\n",
       "       [-1.99381559e+00, -2.88347036e-01],\n",
       "       [-1.65615569e+00, -1.10075289e+00],\n",
       "       [-9.80897911e-01, -4.87827867e-01]])"
      ]
     },
     "execution_count": 44,
     "metadata": {},
     "output_type": "execute_result"
    }
   ],
   "source": [
    "j"
   ]
  },
  {
   "cell_type": "code",
   "execution_count": 28,
   "metadata": {
    "ExecuteTime": {
     "end_time": "2021-06-03T09:53:09.470388Z",
     "start_time": "2021-06-03T09:53:09.247433Z"
    }
   },
   "outputs": [
    {
     "data": {
      "image/png": "[encoded data removed]",
      "text/plain": [
       "<Figure size 432x288 with 1 Axes>"
      ]
     },
     "metadata": {
      "needs_background": "light"
     },
     "output_type": "display_data"
    }
   ],
   "source": [
    "q  =    -2 * np.random.rand(100,2)\n",
    "q1 = 1 + 2 * np.random.rand(50 ,2)\n",
    "q[50:100, :] = q1\n",
    "plt.scatter(q[ : , 0], q[ :, 1], s = 50, color = 'r')\n",
    "plt.show()"
   ]
  },
  {
   "cell_type": "code",
   "execution_count": null,
   "metadata": {},
   "outputs": [],
   "source": []
  },
  {
   "cell_type": "code",
   "execution_count": null,
   "metadata": {},
   "outputs": [],
   "source": []
  }
 ],
 "metadata": {
  "colab": {
   "collapsed_sections": [],
   "name": "KMeans_Clustering.ipynb",
   "provenance": [],
   "version": "0.3.2"
  },
  "kernelspec": {
   "display_name": "Python 3",
   "language": "python",
   "name": "python3"
  },
  "language_info": {
   "codemirror_mode": {
    "name": "ipython",
    "version": 3
   },
   "file_extension": ".py",
   "mimetype": "text/x-python",
   "name": "python",
   "nbconvert_exporter": "python",
   "pygments_lexer": "ipython3",
   "version": "3.7.3"
  },
  "toc": {
   "base_numbering": 1,
   "nav_menu": {},
   "number_sections": true,
   "sideBar": true,
   "skip_h1_title": false,
   "title_cell": "Table of Contents",
   "title_sidebar": "Contents",
   "toc_cell": false,
   "toc_position": {},
   "toc_section_display": true,
   "toc_window_display": false
  },
  "varInspector": {
   "cols": {
    "lenName": 16,
    "lenType": 16,
    "lenVar": 40
   },
   "kernels_config": {
    "python": {
     "delete_cmd_postfix": "",
     "delete_cmd_prefix": "del ",
     "library": "var_list.py",
     "varRefreshCmd": "print(var_dic_list())"
    },
    "r": {
     "delete_cmd_postfix": ") ",
     "delete_cmd_prefix": "rm(",
     "library": "var_list.r",
     "varRefreshCmd": "cat(var_dic_list()) "
    }
   },
   "types_to_exclude": [
    "module",
    "function",
    "builtin_function_or_method",
    "instance",
    "_Feature"
   ],
   "window_display": false
  }
 },
 "nbformat": 4,
 "nbformat_minor": 1
}
