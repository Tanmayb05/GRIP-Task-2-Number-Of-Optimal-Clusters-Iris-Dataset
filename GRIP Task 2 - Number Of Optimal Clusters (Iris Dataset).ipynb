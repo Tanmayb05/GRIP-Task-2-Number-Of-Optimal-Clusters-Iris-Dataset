{
 "cells": [
  {
   "cell_type": "markdown",
   "id": "c014886b",
   "metadata": {},
   "source": [
    "# The Sparks Foundation - Data Science & Business Analytics Internship"
   ]
  },
  {
   "cell_type": "markdown",
   "id": "dea49ee0",
   "metadata": {},
   "source": [
    "## TASK 2 - Prediction using Unsupervised Machine Learning\n",
    "In this task it is required to predict the optimum number of cluster for the iris data set .iris data set consists of 3 types of flower namely Iris-setosa Iris-versicolour and Iris-virginica"
   ]
  },
  {
   "cell_type": "markdown",
   "id": "bc785df8",
   "metadata": {},
   "source": [
    "#### Steps :\n",
    "\n",
    "- Step 1 - Importing the dataset\n",
    "- Step 2 - Visualize the data  \n",
    "- Step 3 - Finding the optimum number of clusters\n",
    "- Step 4 - Applying k means clustering on the data\n",
    "- Step 5 - Visualize the clusters"
   ]
  },
  {
   "cell_type": "code",
   "execution_count": null,
   "id": "a06d3c25",
   "metadata": {},
   "outputs": [],
   "source": []
  },
  {
   "cell_type": "code",
   "execution_count": 2,
   "id": "396b7b5a",
   "metadata": {
    "ExecuteTime": {
     "end_time": "2021-06-23T04:21:13.340951Z",
     "start_time": "2021-06-23T04:21:04.288881Z"
    }
   },
   "outputs": [],
   "source": [
    "# Import required libraries\n",
    "\n",
    "import numpy as np\n",
    "import pandas as pd\n",
    "import matplotlib.pyplot as plt\n",
    "import seaborn as sns\n",
    "from sklearn.cluster import KMeans\n",
    "\n",
    "# Ignore Warnings\n",
    "\n",
    "import warnings as wg\n",
    "wg.filterwarnings(\"ignore\")"
   ]
  },
  {
   "cell_type": "code",
   "execution_count": 2,
   "id": "2a058326",
   "metadata": {
    "ExecuteTime": {
     "end_time": "2021-06-22T10:53:41.184847Z",
     "start_time": "2021-06-22T10:53:41.139546Z"
    }
   },
   "outputs": [
    {
     "data": {
      "text/html": [
       "<div>\n",
       "<style scoped>\n",
       "    .dataframe tbody tr th:only-of-type {\n",
       "        vertical-align: middle;\n",
       "    }\n",
       "\n",
       "    .dataframe tbody tr th {\n",
       "        vertical-align: top;\n",
       "    }\n",
       "\n",
       "    .dataframe thead th {\n",
       "        text-align: right;\n",
       "    }\n",
       "</style>\n",
       "<table border=\"1\" class=\"dataframe\">\n",
       "  <thead>\n",
       "    <tr style=\"text-align: right;\">\n",
       "      <th></th>\n",
       "      <th>Id</th>\n",
       "      <th>SepalLengthCm</th>\n",
       "      <th>SepalWidthCm</th>\n",
       "      <th>PetalLengthCm</th>\n",
       "      <th>PetalWidthCm</th>\n",
       "      <th>Species</th>\n",
       "    </tr>\n",
       "  </thead>\n",
       "  <tbody>\n",
       "    <tr>\n",
       "      <th>0</th>\n",
       "      <td>1</td>\n",
       "      <td>5.1</td>\n",
       "      <td>3.5</td>\n",
       "      <td>1.4</td>\n",
       "      <td>0.2</td>\n",
       "      <td>Iris-setosa</td>\n",
       "    </tr>\n",
       "    <tr>\n",
       "      <th>1</th>\n",
       "      <td>2</td>\n",
       "      <td>4.9</td>\n",
       "      <td>3.0</td>\n",
       "      <td>1.4</td>\n",
       "      <td>0.2</td>\n",
       "      <td>Iris-setosa</td>\n",
       "    </tr>\n",
       "    <tr>\n",
       "      <th>2</th>\n",
       "      <td>3</td>\n",
       "      <td>4.7</td>\n",
       "      <td>3.2</td>\n",
       "      <td>1.3</td>\n",
       "      <td>0.2</td>\n",
       "      <td>Iris-setosa</td>\n",
       "    </tr>\n",
       "    <tr>\n",
       "      <th>3</th>\n",
       "      <td>4</td>\n",
       "      <td>4.6</td>\n",
       "      <td>3.1</td>\n",
       "      <td>1.5</td>\n",
       "      <td>0.2</td>\n",
       "      <td>Iris-setosa</td>\n",
       "    </tr>\n",
       "    <tr>\n",
       "      <th>4</th>\n",
       "      <td>5</td>\n",
       "      <td>5.0</td>\n",
       "      <td>3.6</td>\n",
       "      <td>1.4</td>\n",
       "      <td>0.2</td>\n",
       "      <td>Iris-setosa</td>\n",
       "    </tr>\n",
       "  </tbody>\n",
       "</table>\n",
       "</div>"
      ],
      "text/plain": [
       "   Id  SepalLengthCm  SepalWidthCm  PetalLengthCm  PetalWidthCm      Species\n",
       "0   1            5.1           3.5            1.4           0.2  Iris-setosa\n",
       "1   2            4.9           3.0            1.4           0.2  Iris-setosa\n",
       "2   3            4.7           3.2            1.3           0.2  Iris-setosa\n",
       "3   4            4.6           3.1            1.5           0.2  Iris-setosa\n",
       "4   5            5.0           3.6            1.4           0.2  Iris-setosa"
      ]
     },
     "execution_count": 2,
     "metadata": {},
     "output_type": "execute_result"
    }
   ],
   "source": [
    "# Reading the Iris.csv file and \n",
    "# Storing the Data into a DatFrame df.\n",
    "\n",
    "df = pd.read_csv('Iris.csv')\n",
    "df.head()"
   ]
  },
  {
   "cell_type": "code",
   "execution_count": 3,
   "id": "d6438e72",
   "metadata": {
    "ExecuteTime": {
     "end_time": "2021-06-22T10:53:41.216479Z",
     "start_time": "2021-06-22T10:53:41.202878Z"
    }
   },
   "outputs": [
    {
     "data": {
      "text/plain": [
       "(150, 6)"
      ]
     },
     "execution_count": 3,
     "metadata": {},
     "output_type": "execute_result"
    }
   ],
   "source": [
    "# Checking how many rows and columns does the df contain.\n",
    "\n",
    "df.shape"
   ]
  },
  {
   "cell_type": "code",
   "execution_count": 39,
   "id": "b310165a",
   "metadata": {
    "ExecuteTime": {
     "end_time": "2021-06-22T11:03:21.233598Z",
     "start_time": "2021-06-22T11:03:21.221805Z"
    }
   },
   "outputs": [
    {
     "data": {
      "text/plain": [
       "Index(['Id', 'SepalLengthCm', 'SepalWidthCm', 'PetalLengthCm', 'PetalWidthCm',\n",
       "       'Species'],\n",
       "      dtype='object')"
      ]
     },
     "execution_count": 39,
     "metadata": {},
     "output_type": "execute_result"
    }
   ],
   "source": [
    "# Checking the column names of df.\n",
    "\n",
    "df.columns"
   ]
  },
  {
   "cell_type": "code",
   "execution_count": 40,
   "id": "2bf42095",
   "metadata": {
    "ExecuteTime": {
     "end_time": "2021-06-22T11:04:29.175159Z",
     "start_time": "2021-06-22T11:04:29.130556Z"
    }
   },
   "outputs": [
    {
     "data": {
      "text/html": [
       "<div>\n",
       "<style scoped>\n",
       "    .dataframe tbody tr th:only-of-type {\n",
       "        vertical-align: middle;\n",
       "    }\n",
       "\n",
       "    .dataframe tbody tr th {\n",
       "        vertical-align: top;\n",
       "    }\n",
       "\n",
       "    .dataframe thead th {\n",
       "        text-align: right;\n",
       "    }\n",
       "</style>\n",
       "<table border=\"1\" class=\"dataframe\">\n",
       "  <thead>\n",
       "    <tr style=\"text-align: right;\">\n",
       "      <th></th>\n",
       "      <th>Id</th>\n",
       "      <th>SepalLengthCm</th>\n",
       "      <th>SepalWidthCm</th>\n",
       "      <th>PetalLengthCm</th>\n",
       "      <th>PetalWidthCm</th>\n",
       "    </tr>\n",
       "  </thead>\n",
       "  <tbody>\n",
       "    <tr>\n",
       "      <th>count</th>\n",
       "      <td>150.000000</td>\n",
       "      <td>150.000000</td>\n",
       "      <td>150.000000</td>\n",
       "      <td>150.000000</td>\n",
       "      <td>150.000000</td>\n",
       "    </tr>\n",
       "    <tr>\n",
       "      <th>mean</th>\n",
       "      <td>75.500000</td>\n",
       "      <td>5.843333</td>\n",
       "      <td>3.054000</td>\n",
       "      <td>3.758667</td>\n",
       "      <td>1.198667</td>\n",
       "    </tr>\n",
       "    <tr>\n",
       "      <th>std</th>\n",
       "      <td>43.445368</td>\n",
       "      <td>0.828066</td>\n",
       "      <td>0.433594</td>\n",
       "      <td>1.764420</td>\n",
       "      <td>0.763161</td>\n",
       "    </tr>\n",
       "    <tr>\n",
       "      <th>min</th>\n",
       "      <td>1.000000</td>\n",
       "      <td>4.300000</td>\n",
       "      <td>2.000000</td>\n",
       "      <td>1.000000</td>\n",
       "      <td>0.100000</td>\n",
       "    </tr>\n",
       "    <tr>\n",
       "      <th>25%</th>\n",
       "      <td>38.250000</td>\n",
       "      <td>5.100000</td>\n",
       "      <td>2.800000</td>\n",
       "      <td>1.600000</td>\n",
       "      <td>0.300000</td>\n",
       "    </tr>\n",
       "    <tr>\n",
       "      <th>50%</th>\n",
       "      <td>75.500000</td>\n",
       "      <td>5.800000</td>\n",
       "      <td>3.000000</td>\n",
       "      <td>4.350000</td>\n",
       "      <td>1.300000</td>\n",
       "    </tr>\n",
       "    <tr>\n",
       "      <th>75%</th>\n",
       "      <td>112.750000</td>\n",
       "      <td>6.400000</td>\n",
       "      <td>3.300000</td>\n",
       "      <td>5.100000</td>\n",
       "      <td>1.800000</td>\n",
       "    </tr>\n",
       "    <tr>\n",
       "      <th>max</th>\n",
       "      <td>150.000000</td>\n",
       "      <td>7.900000</td>\n",
       "      <td>4.400000</td>\n",
       "      <td>6.900000</td>\n",
       "      <td>2.500000</td>\n",
       "    </tr>\n",
       "  </tbody>\n",
       "</table>\n",
       "</div>"
      ],
      "text/plain": [
       "               Id  SepalLengthCm  SepalWidthCm  PetalLengthCm  PetalWidthCm\n",
       "count  150.000000     150.000000    150.000000     150.000000    150.000000\n",
       "mean    75.500000       5.843333      3.054000       3.758667      1.198667\n",
       "std     43.445368       0.828066      0.433594       1.764420      0.763161\n",
       "min      1.000000       4.300000      2.000000       1.000000      0.100000\n",
       "25%     38.250000       5.100000      2.800000       1.600000      0.300000\n",
       "50%     75.500000       5.800000      3.000000       4.350000      1.300000\n",
       "75%    112.750000       6.400000      3.300000       5.100000      1.800000\n",
       "max    150.000000       7.900000      4.400000       6.900000      2.500000"
      ]
     },
     "execution_count": 40,
     "metadata": {},
     "output_type": "execute_result"
    }
   ],
   "source": [
    "# Generate descriptive statistics\n",
    "\n",
    "df.describe()"
   ]
  },
  {
   "cell_type": "code",
   "execution_count": 41,
   "id": "03d3af51",
   "metadata": {
    "ExecuteTime": {
     "end_time": "2021-06-22T11:05:56.966898Z",
     "start_time": "2021-06-22T11:05:56.951809Z"
    }
   },
   "outputs": [
    {
     "name": "stdout",
     "output_type": "stream",
     "text": [
      "<class 'pandas.core.frame.DataFrame'>\n",
      "RangeIndex: 150 entries, 0 to 149\n",
      "Data columns (total 6 columns):\n",
      " #   Column         Non-Null Count  Dtype  \n",
      "---  ------         --------------  -----  \n",
      " 0   Id             150 non-null    int64  \n",
      " 1   SepalLengthCm  150 non-null    float64\n",
      " 2   SepalWidthCm   150 non-null    float64\n",
      " 3   PetalLengthCm  150 non-null    float64\n",
      " 4   PetalWidthCm   150 non-null    float64\n",
      " 5   Species        150 non-null    object \n",
      "dtypes: float64(4), int64(1), object(1)\n",
      "memory usage: 7.2+ KB\n"
     ]
    }
   ],
   "source": [
    "# Concise summary of a DataFrame.\n",
    "\n",
    "df.info()"
   ]
  },
  {
   "cell_type": "code",
   "execution_count": 36,
   "id": "3d416f87",
   "metadata": {
    "ExecuteTime": {
     "end_time": "2021-06-22T11:01:53.935562Z",
     "start_time": "2021-06-22T11:01:53.914589Z"
    }
   },
   "outputs": [
    {
     "data": {
      "text/html": [
       "<div>\n",
       "<style scoped>\n",
       "    .dataframe tbody tr th:only-of-type {\n",
       "        vertical-align: middle;\n",
       "    }\n",
       "\n",
       "    .dataframe tbody tr th {\n",
       "        vertical-align: top;\n",
       "    }\n",
       "\n",
       "    .dataframe thead th {\n",
       "        text-align: right;\n",
       "    }\n",
       "</style>\n",
       "<table border=\"1\" class=\"dataframe\">\n",
       "  <thead>\n",
       "    <tr style=\"text-align: right;\">\n",
       "      <th></th>\n",
       "      <th>SepalLengthCm</th>\n",
       "      <th>SepalWidthCm</th>\n",
       "      <th>PetalLengthCm</th>\n",
       "      <th>PetalWidthCm</th>\n",
       "    </tr>\n",
       "  </thead>\n",
       "  <tbody>\n",
       "    <tr>\n",
       "      <th>0</th>\n",
       "      <td>5.1</td>\n",
       "      <td>3.5</td>\n",
       "      <td>1.4</td>\n",
       "      <td>0.2</td>\n",
       "    </tr>\n",
       "    <tr>\n",
       "      <th>1</th>\n",
       "      <td>4.9</td>\n",
       "      <td>3.0</td>\n",
       "      <td>1.4</td>\n",
       "      <td>0.2</td>\n",
       "    </tr>\n",
       "    <tr>\n",
       "      <th>2</th>\n",
       "      <td>4.7</td>\n",
       "      <td>3.2</td>\n",
       "      <td>1.3</td>\n",
       "      <td>0.2</td>\n",
       "    </tr>\n",
       "    <tr>\n",
       "      <th>3</th>\n",
       "      <td>4.6</td>\n",
       "      <td>3.1</td>\n",
       "      <td>1.5</td>\n",
       "      <td>0.2</td>\n",
       "    </tr>\n",
       "    <tr>\n",
       "      <th>4</th>\n",
       "      <td>5.0</td>\n",
       "      <td>3.6</td>\n",
       "      <td>1.4</td>\n",
       "      <td>0.2</td>\n",
       "    </tr>\n",
       "  </tbody>\n",
       "</table>\n",
       "</div>"
      ],
      "text/plain": [
       "   SepalLengthCm  SepalWidthCm  PetalLengthCm  PetalWidthCm\n",
       "0            5.1           3.5            1.4           0.2\n",
       "1            4.9           3.0            1.4           0.2\n",
       "2            4.7           3.2            1.3           0.2\n",
       "3            4.6           3.1            1.5           0.2\n",
       "4            5.0           3.6            1.4           0.2"
      ]
     },
     "execution_count": 36,
     "metadata": {},
     "output_type": "execute_result"
    }
   ],
   "source": [
    "# Copy the df DataFrame into a new DataFrame \n",
    "# called iris_df dropping 'Id' & 'Species' columns\n",
    "\n",
    "iris_df = df.copy()\n",
    "iris_df = iris_df.drop(columns = ['Id','Species'])\n",
    "iris_df.head()"
   ]
  },
  {
   "cell_type": "code",
   "execution_count": 37,
   "id": "6536d492",
   "metadata": {
    "ExecuteTime": {
     "end_time": "2021-06-22T11:01:54.217762Z",
     "start_time": "2021-06-22T11:01:54.201582Z"
    }
   },
   "outputs": [
    {
     "data": {
      "text/plain": [
       "3"
      ]
     },
     "execution_count": 37,
     "metadata": {},
     "output_type": "execute_result"
    }
   ],
   "source": [
    "# Check For Duplicates\n",
    "\n",
    "iris_df.duplicated().sum()"
   ]
  },
  {
   "cell_type": "code",
   "execution_count": 38,
   "id": "a3177dee",
   "metadata": {
    "ExecuteTime": {
     "end_time": "2021-06-22T11:01:54.542356Z",
     "start_time": "2021-06-22T11:01:54.526081Z"
    }
   },
   "outputs": [
    {
     "name": "stdout",
     "output_type": "stream",
     "text": [
      "(150, 4)\n",
      "(147, 4)\n"
     ]
    }
   ],
   "source": [
    "# Dropping the Duplicate Rows\n",
    "\n",
    "print(iris_df.shape)\n",
    "iris_df.drop_duplicates(inplace=True)\n",
    "print(iris_df.shape)"
   ]
  },
  {
   "cell_type": "code",
   "execution_count": 8,
   "id": "2d4a147d",
   "metadata": {
    "ExecuteTime": {
     "end_time": "2021-06-22T10:53:42.424528Z",
     "start_time": "2021-06-22T10:53:42.018344Z"
    }
   },
   "outputs": [],
   "source": [
    "sum_of_square = []\n",
    "clusters_range = range(1,15)\n",
    "for k in clusters_range:\n",
    "    km = KMeans(n_clusters = k)\n",
    "    km.fit(iris_df)\n",
    "    sum_of_square.append(km.inertia_)"
   ]
  },
  {
   "cell_type": "code",
   "execution_count": null,
   "id": "5f234c48",
   "metadata": {},
   "outputs": [],
   "source": []
  },
  {
   "cell_type": "code",
   "execution_count": null,
   "id": "6b732004",
   "metadata": {},
   "outputs": [],
   "source": []
  },
  {
   "cell_type": "code",
   "execution_count": 3,
   "id": "9acaed40",
   "metadata": {
    "ExecuteTime": {
     "end_time": "2021-06-23T04:21:13.494376Z",
     "start_time": "2021-06-23T04:21:13.377788Z"
    }
   },
   "outputs": [],
   "source": [
    "from sklearn.datasets import make_blobs"
   ]
  },
  {
   "cell_type": "code",
   "execution_count": 4,
   "id": "a70eb039",
   "metadata": {
    "ExecuteTime": {
     "end_time": "2021-06-23T04:21:13.541782Z",
     "start_time": "2021-06-23T04:21:13.529273Z"
    }
   },
   "outputs": [],
   "source": [
    "data = make_blobs(n_samples=500, n_features=2, centers=5, cluster_std=1.85)"
   ]
  },
  {
   "cell_type": "code",
   "execution_count": 5,
   "id": "d6d3b209",
   "metadata": {
    "ExecuteTime": {
     "end_time": "2021-06-23T04:21:14.053723Z",
     "start_time": "2021-06-23T04:21:13.620188Z"
    }
   },
   "outputs": [
    {
     "data": {
      "text/plain": [
       "<matplotlib.collections.PathCollection at 0x20479145e80>"
      ]
     },
     "execution_count": 5,
     "metadata": {},
     "output_type": "execute_result"
    },
    {
     "data": {
      "image/png": "[encoded data removed]",
      "text/plain": [
       "<Figure size 432x288 with 1 Axes>"
      ]
     },
     "metadata": {
      "needs_background": "light"
     },
     "output_type": "display_data"
    }
   ],
   "source": [
    "plt.scatter(data[0][:,0],data[0][:,1])"
   ]
  },
  {
   "cell_type": "code",
   "execution_count": 14,
   "id": "f332ddc0",
   "metadata": {
    "ExecuteTime": {
     "end_time": "2021-06-23T04:25:24.220682Z",
     "start_time": "2021-06-23T04:25:24.125886Z"
    }
   },
   "outputs": [
    {
     "data": {
      "text/plain": [
       "KMeans(algorithm='auto', copy_x=True, init='k-means++', max_iter=300,\n",
       "       n_clusters=5, n_init=10, n_jobs=None, precompute_distances='auto',\n",
       "       random_state=None, tol=0.0001, verbose=0)"
      ]
     },
     "execution_count": 14,
     "metadata": {},
     "output_type": "execute_result"
    }
   ],
   "source": [
    "from sklearn.cluster import KMeans\n",
    "k = KMeans(n_clusters = 5)\n",
    "k.fit(data[0])"
   ]
  },
  {
   "cell_type": "code",
   "execution_count": 15,
   "id": "7c90af91",
   "metadata": {
    "ExecuteTime": {
     "end_time": "2021-06-23T04:25:24.404796Z",
     "start_time": "2021-06-23T04:25:24.388745Z"
    }
   },
   "outputs": [
    {
     "data": {
      "text/plain": [
       "array([[-1.2112476 ,  7.40982394],\n",
       "       [-7.76140873, -1.01408433],\n",
       "       [ 3.01236822, -1.09462287],\n",
       "       [-2.06137297,  2.27944309],\n",
       "       [-2.011725  , -2.31172627]])"
      ]
     },
     "execution_count": 15,
     "metadata": {},
     "output_type": "execute_result"
    }
   ],
   "source": [
    "k.cluster_centers_"
   ]
  },
  {
   "cell_type": "code",
   "execution_count": 16,
   "id": "02d6c999",
   "metadata": {
    "ExecuteTime": {
     "end_time": "2021-06-23T04:25:24.711359Z",
     "start_time": "2021-06-23T04:25:24.697557Z"
    }
   },
   "outputs": [
    {
     "data": {
      "text/plain": [
       "array([0, 3, 1, 3, 2, 2, 1, 1, 1, 3, 4, 1, 2, 0, 1, 2, 0, 0, 4, 1, 3, 3,\n",
       "       3, 1, 2, 0, 3, 1, 4, 2, 0, 3, 2, 4, 2, 4, 2, 0, 0, 4, 2, 3, 4, 0,\n",
       "       2, 0, 4, 3, 2, 4, 3, 2, 3, 3, 3, 4, 4, 4, 0, 3, 1, 3, 3, 0, 3, 0,\n",
       "       0, 1, 4, 4, 2, 3, 3, 3, 0, 3, 1, 1, 2, 1, 2, 0, 4, 1, 1, 3, 4, 4,\n",
       "       0, 0, 3, 0, 1, 1, 3, 0, 1, 1, 3, 4, 2, 1, 4, 0, 4, 3, 0, 4, 2, 0,\n",
       "       2, 0, 1, 3, 0, 2, 4, 0, 4, 3, 3, 2, 4, 0, 2, 0, 3, 0, 2, 4, 1, 1,\n",
       "       2, 4, 4, 0, 2, 4, 4, 1, 4, 3, 3, 1, 2, 1, 2, 2, 0, 1, 4, 0, 4, 1,\n",
       "       2, 3, 1, 3, 0, 3, 1, 2, 3, 4, 2, 0, 0, 1, 4, 0, 4, 2, 1, 4, 3, 2,\n",
       "       4, 4, 1, 2, 3, 1, 3, 0, 4, 4, 1, 4, 3, 2, 3, 2, 3, 2, 3, 3, 4, 1,\n",
       "       2, 1, 0, 1, 3, 3, 3, 3, 0, 1, 2, 4, 2, 3, 4, 2, 1, 1, 2, 0, 0, 3,\n",
       "       4, 2, 0, 0, 4, 1, 0, 2, 1, 4, 1, 3, 3, 0, 0, 0, 0, 1, 4, 0, 1, 1,\n",
       "       4, 0, 3, 2, 2, 1, 2, 2, 3, 4, 3, 1, 3, 0, 4, 0, 4, 2, 2, 2, 3, 1,\n",
       "       0, 3, 3, 2, 4, 2, 1, 1, 0, 2, 1, 3, 2, 1, 3, 2, 1, 3, 4, 1, 3, 3,\n",
       "       1, 0, 3, 1, 4, 3, 4, 4, 3, 3, 3, 4, 2, 4, 2, 2, 4, 2, 2, 3, 3, 2,\n",
       "       4, 4, 3, 2, 1, 2, 4, 2, 0, 4, 4, 3, 3, 4, 1, 3, 0, 2, 1, 4, 0, 2,\n",
       "       1, 2, 0, 0, 2, 3, 3, 2, 1, 0, 0, 0, 3, 4, 4, 2, 3, 4, 3, 2, 2, 0,\n",
       "       0, 2, 0, 1, 4, 3, 3, 3, 1, 4, 0, 0, 0, 1, 4, 2, 4, 0, 3, 3, 2, 1,\n",
       "       4, 1, 2, 0, 1, 2, 1, 4, 0, 1, 1, 3, 1, 0, 3, 0, 3, 2, 0, 2, 4, 4,\n",
       "       1, 0, 3, 2, 0, 4, 2, 2, 2, 3, 2, 2, 1, 4, 3, 1, 3, 0, 3, 2, 4, 2,\n",
       "       1, 3, 3, 1, 0, 3, 3, 3, 2, 3, 1, 2, 3, 3, 0, 1, 1, 3, 2, 3, 4, 3,\n",
       "       2, 3, 3, 4, 4, 0, 4, 0, 3, 1, 4, 2, 0, 0, 3, 2, 4, 4, 4, 2, 4, 4,\n",
       "       3, 4, 4, 2, 0, 2, 1, 3, 1, 0, 1, 3, 2, 1, 1, 0, 1, 0, 4, 3, 2, 2,\n",
       "       1, 2, 0, 3, 2, 0, 0, 2, 1, 3, 0, 3, 3, 3, 1, 3])"
      ]
     },
     "execution_count": 16,
     "metadata": {},
     "output_type": "execute_result"
    }
   ],
   "source": [
    "k.labels_"
   ]
  },
  {
   "cell_type": "code",
   "execution_count": 17,
   "id": "b788d65c",
   "metadata": {
    "ExecuteTime": {
     "end_time": "2021-06-23T04:25:24.989681Z",
     "start_time": "2021-06-23T04:25:24.975740Z"
    }
   },
   "outputs": [
    {
     "data": {
      "text/plain": [
       "array([4, 0, 3, 0, 2, 2, 3, 3, 3, 0, 1, 1, 2, 4, 3, 2, 4, 4, 0, 3, 0, 1,\n",
       "       2, 3, 2, 4, 3, 3, 1, 2, 4, 0, 2, 1, 1, 0, 2, 4, 4, 1, 2, 4, 1, 4,\n",
       "       2, 4, 1, 0, 2, 1, 0, 2, 0, 0, 1, 1, 1, 1, 4, 0, 3, 0, 0, 4, 0, 4,\n",
       "       4, 3, 1, 2, 2, 1, 4, 0, 4, 0, 3, 3, 2, 3, 2, 4, 1, 3, 3, 0, 1, 1,\n",
       "       4, 4, 0, 4, 3, 3, 0, 4, 3, 3, 2, 0, 1, 3, 3, 4, 1, 0, 4, 1, 2, 4,\n",
       "       2, 4, 3, 0, 4, 2, 1, 4, 1, 0, 2, 2, 1, 4, 2, 4, 1, 4, 2, 1, 3, 3,\n",
       "       2, 1, 3, 4, 2, 1, 1, 3, 1, 1, 0, 3, 2, 3, 0, 2, 4, 3, 2, 4, 0, 3,\n",
       "       2, 0, 3, 1, 4, 0, 3, 2, 0, 0, 2, 0, 4, 3, 0, 4, 3, 2, 3, 3, 4, 2,\n",
       "       3, 1, 3, 0, 0, 3, 0, 4, 2, 1, 3, 0, 0, 2, 4, 2, 0, 2, 0, 1, 1, 3,\n",
       "       2, 1, 4, 3, 0, 4, 1, 1, 4, 3, 2, 1, 2, 0, 1, 0, 3, 3, 2, 4, 4, 0,\n",
       "       1, 2, 4, 4, 1, 3, 0, 1, 3, 0, 3, 0, 1, 4, 4, 4, 4, 3, 1, 4, 3, 3,\n",
       "       3, 4, 0, 2, 1, 3, 2, 2, 1, 1, 0, 3, 0, 4, 1, 4, 2, 2, 2, 1, 0, 3,\n",
       "       4, 1, 1, 0, 1, 2, 3, 3, 4, 2, 3, 4, 2, 3, 0, 2, 3, 0, 1, 3, 0, 1,\n",
       "       3, 4, 0, 3, 1, 0, 1, 3, 1, 0, 1, 1, 0, 1, 2, 2, 1, 2, 2, 0, 0, 2,\n",
       "       1, 1, 0, 2, 3, 2, 2, 2, 0, 1, 1, 1, 0, 1, 3, 1, 4, 2, 3, 1, 4, 2,\n",
       "       3, 2, 4, 0, 2, 2, 4, 2, 3, 4, 4, 4, 4, 1, 1, 2, 0, 1, 1, 1, 1, 4,\n",
       "       0, 2, 4, 3, 1, 0, 0, 0, 3, 1, 4, 4, 4, 3, 0, 2, 1, 4, 0, 4, 2, 3,\n",
       "       3, 3, 2, 4, 3, 2, 3, 3, 4, 3, 3, 0, 3, 4, 0, 4, 1, 2, 4, 2, 1, 1,\n",
       "       3, 4, 0, 2, 4, 1, 2, 2, 2, 0, 0, 2, 3, 1, 0, 3, 0, 4, 0, 2, 1, 2,\n",
       "       3, 1, 0, 3, 4, 3, 1, 0, 2, 0, 3, 2, 4, 0, 4, 3, 3, 0, 0, 0, 1, 0,\n",
       "       2, 0, 4, 0, 1, 4, 1, 4, 0, 3, 1, 2, 4, 4, 4, 2, 1, 0, 1, 2, 1, 2,\n",
       "       0, 1, 1, 0, 4, 2, 1, 2, 3, 4, 3, 0, 2, 3, 3, 4, 3, 4, 2, 0, 2, 2,\n",
       "       3, 2, 4, 0, 2, 4, 4, 2, 1, 4, 4, 0, 0, 3, 3, 0])"
      ]
     },
     "execution_count": 17,
     "metadata": {},
     "output_type": "execute_result"
    }
   ],
   "source": [
    "data[1]"
   ]
  },
  {
   "cell_type": "code",
   "execution_count": 18,
   "id": "b445ca71",
   "metadata": {
    "ExecuteTime": {
     "end_time": "2021-06-23T04:25:25.843639Z",
     "start_time": "2021-06-23T04:25:25.385526Z"
    }
   },
   "outputs": [
    {
     "data": {
      "text/plain": [
       "<matplotlib.collections.PathCollection at 0x20479d9ec18>"
      ]
     },
     "execution_count": 18,
     "metadata": {},
     "output_type": "execute_result"
    },
    {
     "data": {
      "image/png": "[encoded data removed]",
      "text/plain": [
       "<Figure size 720x432 with 2 Axes>"
      ]
     },
     "metadata": {
      "needs_background": "light"
     },
     "output_type": "display_data"
    }
   ],
   "source": [
    "fig , (ax1,ax2) = plt.subplots(1,2, sharey=True,figsize=(10,6))\n",
    "\n",
    "ax1.set_title('K Means')\n",
    "ax1.scatter(data[0][:,0],data[0][:,1], c = k.labels_, cmap='rainbow')\n",
    "\n",
    "ax2.set_title('Original')\n",
    "ax2.scatter(data[0][:,0],data[0][:,1], c = data[1], cmap='rainbow')"
   ]
  },
  {
   "cell_type": "code",
   "execution_count": null,
   "id": "db69c4be",
   "metadata": {},
   "outputs": [],
   "source": []
  },
  {
   "cell_type": "code",
   "execution_count": null,
   "id": "5b22775a",
   "metadata": {},
   "outputs": [],
   "source": []
  }
 ],
 "metadata": {
  "kernelspec": {
   "display_name": "Python 3",
   "language": "python",
   "name": "python3"
  },
  "language_info": {
   "codemirror_mode": {
    "name": "ipython",
    "version": 3
   },
   "file_extension": ".py",
   "mimetype": "text/x-python",
   "name": "python",
   "nbconvert_exporter": "python",
   "pygments_lexer": "ipython3",
   "version": "3.7.3"
  },
  "toc": {
   "base_numbering": 1,
   "nav_menu": {},
   "number_sections": true,
   "sideBar": true,
   "skip_h1_title": false,
   "title_cell": "Table of Contents",
   "title_sidebar": "Contents",
   "toc_cell": false,
   "toc_position": {},
   "toc_section_display": true,
   "toc_window_display": false
  },
  "varInspector": {
   "cols": {
    "lenName": 16,
    "lenType": 16,
    "lenVar": 40
   },
   "kernels_config": {
    "python": {
     "delete_cmd_postfix": "",
     "delete_cmd_prefix": "del ",
     "library": "var_list.py",
     "varRefreshCmd": "print(var_dic_list())"
    },
    "r": {
     "delete_cmd_postfix": ") ",
     "delete_cmd_prefix": "rm(",
     "library": "var_list.r",
     "varRefreshCmd": "cat(var_dic_list()) "
    }
   },
   "types_to_exclude": [
    "module",
    "function",
    "builtin_function_or_method",
    "instance",
    "_Feature"
   ],
   "window_display": false
  }
 },
 "nbformat": 4,
 "nbformat_minor": 5
}
